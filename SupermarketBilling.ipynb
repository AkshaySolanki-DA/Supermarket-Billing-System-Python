{
 "cells": [
  {
   "cell_type": "markdown",
   "id": "322fff93-3b1d-4fb6-946c-e0faab629a11",
   "metadata": {},
   "source": [
    "# Supermarket Billing System\n",
    "This notebook implements a simple supermarket billing system in Python.\n",
    "\n",
    "### Features:\n",
    "- Predefined price list\n",
    "- Item input with quantity\n",
    "- Subtotal, discount, and final total calculation\n",
    "- Itemized bill display\n"
   ]
  },
  {
   "cell_type": "code",
   "execution_count": 1,
   "id": "82af8907-2389-40cf-ad02-0819ab592350",
   "metadata": {
    "scrolled": true
   },
   "outputs": [
    {
     "name": "stdout",
     "output_type": "stream",
     "text": [
      "=== Welcome to Super Market Billing System ===\n"
     ]
    },
    {
     "name": "stdin",
     "output_type": "stream",
     "text": [
      "\n",
      "Enter item name (or type 'done' to finish):  rice\n",
      "Enter quantity in kg:  5\n",
      "\n",
      "Enter item name (or type 'done' to finish):  oil\n",
      "Enter quantity in litre:  2\n",
      "\n",
      "Enter item name (or type 'done' to finish):  milk\n",
      "Enter quantity in litre:  3\n",
      "\n",
      "Enter item name (or type 'done' to finish):  bread\n",
      "Enter quantity in pcs:  4\n",
      "\n",
      "Enter item name (or type 'done' to finish):  done\n"
     ]
    },
    {
     "name": "stdout",
     "output_type": "stream",
     "text": [
      "\n",
      "========== ITEMIZED BILL ==========\n",
      "Item            Quantity        Price/Unit   Total     \n",
      "-------------------------------------------------------\n",
      "Rice            5.0 kg          50.00        250.00    \n",
      "Oil             2.0 litre       120.00       240.00    \n",
      "Milk            3.0 litre       30.00        90.00     \n",
      "Bread           4.0 pcs         25.00        100.00    \n",
      "-------------------------------------------------------\n",
      "Subtotal:                                680.00\n",
      "Discount:                                 68.00\n",
      "Final Total:                             612.00\n",
      "===================================\n",
      "Thank you for shopping with us!\n"
     ]
    }
   ],
   "source": [
    "# Supermarket Billing System with Pre-Stored Prices\n",
    "\n",
    "print(\"=== Welcome to Super Market Billing System ===\")\n",
    "\n",
    "# Pre-stored price list (dictionary)\n",
    "price_list = {\n",
    "    \"rice\": {\"unit\": \"kg\", \"price\": 50},\n",
    "    \"wheat\": {\"unit\": \"kg\", \"price\": 45},\n",
    "    \"oil\": {\"unit\": \"litre\", \"price\": 120},\n",
    "    \"milk\": {\"unit\": \"litre\", \"price\": 30},\n",
    "    \"apple\": {\"unit\": \"kg\", \"price\": 120},\n",
    "    \"sugar\": {\"unit\": \"kg\", \"price\": 40},\n",
    "    \"bread\": {\"unit\": \"pcs\", \"price\": 25}\n",
    "}\n",
    "\n",
    "items = {}  # Purchased items will be stored here\n",
    "\n",
    "while True:\n",
    "    name = input(\"\\nEnter item name (or type 'done' to finish): \").lower()\n",
    "    if name == \"done\":\n",
    "        break\n",
    "\n",
    "    if name not in price_list:\n",
    "        print(\"❌ Item not found in price list. Please try again.\")\n",
    "        continue\n",
    "\n",
    "    try:\n",
    "        qty = float(input(f\"Enter quantity in {price_list[name]['unit']}: \"))\n",
    "    except ValueError:\n",
    "        print(\"Invalid input! Quantity must be a number.\")\n",
    "        continue\n",
    "\n",
    "    # If item already exists, add to quantity\n",
    "    if name in items:\n",
    "        items[name][\"qty\"] += qty\n",
    "        items[name][\"total\"] = items[name][\"qty\"] * items[name][\"price\"]\n",
    "    else:\n",
    "        items[name] = {\n",
    "            \"qty\": qty,\n",
    "            \"unit\": price_list[name][\"unit\"],\n",
    "            \"price\": price_list[name][\"price\"],\n",
    "            \"total\": qty * price_list[name][\"price\"]\n",
    "        }\n",
    "\n",
    "# Calculate subtotal\n",
    "subtotal = sum(item[\"total\"] for item in items.values())\n",
    "\n",
    "# Discount rules\n",
    "discount = 0\n",
    "if subtotal >= 500:\n",
    "    discount = subtotal * 0.10   # 10% discount for orders >= 500\n",
    "elif subtotal >= 200:\n",
    "    discount = subtotal * 0.05   # 5% discount for orders >= 200\n",
    "\n",
    "# Final total\n",
    "total = subtotal - discount\n",
    "\n",
    "# Print Bill\n",
    "print(\"\\n========== ITEMIZED BILL ==========\")\n",
    "print(\"{:<15} {:<15} {:<12} {:<10}\".format(\"Item\", \"Quantity\", \"Price/Unit\", \"Total\"))\n",
    "print(\"-\" * 55)\n",
    "for name, details in items.items():\n",
    "    print(\"{:<15} {:<15} {:<12.2f} {:<10.2f}\".format(\n",
    "        name.capitalize(),\n",
    "        str(details['qty']) + \" \" + details['unit'],\n",
    "        details['price'],\n",
    "        details['total']\n",
    "    ))\n",
    "\n",
    "print(\"-\" * 55)\n",
    "print(\"Subtotal: {:>37.2f}\".format(subtotal))\n",
    "print(\"Discount: {:>37.2f}\".format(discount))\n",
    "print(\"Final Total: {:>34.2f}\".format(total))\n",
    "print(\"===================================\")\n",
    "print(\"Thank you for shopping with us!\")\n"
   ]
  },
  {
   "cell_type": "code",
   "execution_count": null,
   "id": "f0e66a2a-01c4-4564-b276-bdc04388a8cd",
   "metadata": {},
   "outputs": [],
   "source": []
  }
 ],
 "metadata": {
  "kernelspec": {
   "display_name": "Python 3 (ipykernel)",
   "language": "python",
   "name": "python3"
  },
  "language_info": {
   "codemirror_mode": {
    "name": "ipython",
    "version": 3
   },
   "file_extension": ".py",
   "mimetype": "text/x-python",
   "name": "python",
   "nbconvert_exporter": "python",
   "pygments_lexer": "ipython3",
   "version": "3.13.5"
  }
 },
 "nbformat": 4,
 "nbformat_minor": 5
}
